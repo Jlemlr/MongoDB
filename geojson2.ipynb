{
 "cells": [
  {
   "cell_type": "code",
   "execution_count": 22,
   "metadata": {},
   "outputs": [],
   "source": [
    "import utils"
   ]
  },
  {
   "cell_type": "markdown",
   "metadata": {},
   "source": [
    "We load our original JSON dataset and transform it the same way we did for the Cassandra database."
   ]
  },
  {
   "cell_type": "code",
   "execution_count": 23,
   "metadata": {},
   "outputs": [],
   "source": [
    "merged_df = utils.prepare_dataset(utils.DATASET_PATH)"
   ]
  },
  {
   "cell_type": "markdown",
   "metadata": {},
   "source": [
    "We then perform one additional transformation on it to make use of the `location` type specific to MongoDB."
   ]
  },
  {
   "cell_type": "code",
   "execution_count": 24,
   "metadata": {},
   "outputs": [],
   "source": [
    "def transform_to_geojson(df):\n",
    "    \"\"\"Transform the location for MongoDB.\"\"\"\n",
    "\n",
    "    df['location'] = df['coordinates'].apply(lambda coords: {'type': 'Point', 'coordinates': coords[:2]})\n",
    "\n",
    "    # Delete `coordinates` column\n",
    "    df.drop('coordinates', axis=1, inplace=True)\n",
    "    \n",
    "    return df\n",
    "\n",
    "df = transform_to_geojson(merged_df)"
   ]
  },
  {
   "cell_type": "markdown",
   "metadata": {},
   "source": [
    "Now, we notice there are some duplicate values in `magtype` column but encoded differently."
   ]
  },
  {
   "cell_type": "code",
   "execution_count": 25,
   "metadata": {},
   "outputs": [
    {
     "data": {
      "text/plain": [
       "<StringArray>\n",
       "[   'Md',    'Ml',    'mb',    'ml',   'Mww', 'mb_Lg',    'Mb',   'Mwb',\n",
       "    'Me',    'ML',    'Mw',     'H',  'MbLg',   'Mwp',    'Mt',    <NA>]\n",
       "Length: 16, dtype: string"
      ]
     },
     "execution_count": 25,
     "metadata": {},
     "output_type": "execute_result"
    }
   ],
   "source": [
    "df['magtype'].unique()"
   ]
  },
  {
   "cell_type": "markdown",
   "metadata": {},
   "source": [
    "So let’s remove the duplicate values from the `magtype` column."
   ]
  },
  {
   "cell_type": "code",
   "execution_count": 26,
   "metadata": {},
   "outputs": [
    {
     "data": {
      "text/plain": [
       "<StringArray>\n",
       "['md', 'ml', 'mb', 'mww', 'mblg', 'mwb', 'me', 'mw', 'h', 'mwp', 'mt', <NA>]\n",
       "Length: 12, dtype: string"
      ]
     },
     "execution_count": 26,
     "metadata": {},
     "output_type": "execute_result"
    }
   ],
   "source": [
    "df['magtype'] = df['magtype'].str.lower().str.replace('_', '')\n",
    "df['magtype'].unique()"
   ]
  },
  {
   "cell_type": "markdown",
   "metadata": {},
   "source": [
    "We will also convert the dates into a proper format for `mongoimport`."
   ]
  },
  {
   "cell_type": "code",
   "execution_count": 27,
   "metadata": {},
   "outputs": [],
   "source": [
    "def transform_to_mongodbdate(datetime):\n",
    "    if datetime is not None:\n",
    "        return {\n",
    "            \"$date\": datetime,\n",
    "        }\n",
    "    else:\n",
    "        return None\n",
    "\n",
    "df['time'] = df['time'].apply(transform_to_mongodbdate)\n",
    "\n",
    "df['updated'] = df['updated'].apply(transform_to_mongodbdate)"
   ]
  },
  {
   "cell_type": "code",
   "execution_count": 28,
   "metadata": {},
   "outputs": [],
   "source": [
    "df.to_json('earthquakes_transformed.json', orient='records')"
   ]
  },
  {
   "cell_type": "markdown",
   "metadata": {},
   "source": [
    "Let’s now count the final number of records. 😊"
   ]
  },
  {
   "cell_type": "code",
   "execution_count": 29,
   "metadata": {},
   "outputs": [
    {
     "data": {
      "text/plain": [
       "7669"
      ]
     },
     "execution_count": 29,
     "metadata": {},
     "output_type": "execute_result"
    }
   ],
   "source": [
    "len(df)"
   ]
  }
 ],
 "metadata": {
  "kernelspec": {
   "display_name": "Python 3",
   "language": "python",
   "name": "python3"
  },
  "language_info": {
   "codemirror_mode": {
    "name": "ipython",
    "version": 3
   },
   "file_extension": ".py",
   "mimetype": "text/x-python",
   "name": "python",
   "nbconvert_exporter": "python",
   "pygments_lexer": "ipython3",
   "version": "3.12.9"
  }
 },
 "nbformat": 4,
 "nbformat_minor": 2
}
